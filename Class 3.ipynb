{
 "cells": [
  {
   "cell_type": "markdown",
   "id": "2a5a947f",
   "metadata": {},
   "source": [
    "# Problem 2\n",
    "\n",
    "### Use a stack to invert a string.\n",
    "\n",
    "Create a function called \"invert_str\" that takes a parameter (a string) and returns it's inverted version.\n",
    "\n",
    "*As a requirement your solution _must_ use one of the two stack classess we implemented last class.*\n",
    "\n",
    "```\n",
    "Examples:\n",
    "given \"Rafeal\" your function should return \"leafaR\"\n",
    "given \"Cars\" your function should retun \"sraC\"\n",
    "given \"Rats\" your function should return \"staR\"\n",
    "```"
   ]
  },
  {
   "cell_type": "code",
   "execution_count": 1,
   "id": "8e8a9267",
   "metadata": {},
   "outputs": [],
   "source": [
    "class Stack:\n",
    "    def __init__(self):\n",
    "        self.items = []\n",
    "        \n",
    "    def push(self, element):\n",
    "        self.items.append(element)\n",
    "        \n",
    "    def pop(self):\n",
    "        return self.items.pop()\n",
    "    \n",
    "    def __len__(self):\n",
    "        return len(self.items)\n",
    "    \n",
    "def invert_str(mystring):\n",
    "    stack = Stack()\n",
    "    for letter in mystring:\n",
    "        stack.push(letter)\n",
    "    out = \"\" \n",
    "    while len(stack) != 0:\n",
    "        out += stack.pop()\n",
    "    return out    \n",
    "        \n",
    "    "
   ]
  },
  {
   "cell_type": "code",
   "execution_count": 2,
   "id": "f95ec6bb",
   "metadata": {},
   "outputs": [
    {
     "data": {
      "text/plain": [
       "'laefaR'"
      ]
     },
     "execution_count": 2,
     "metadata": {},
     "output_type": "execute_result"
    }
   ],
   "source": [
    "invert_str(\"Rafeal\")"
   ]
  },
  {
   "cell_type": "code",
   "execution_count": 7,
   "id": "f6372a0d",
   "metadata": {},
   "outputs": [
    {
     "ename": "AssertionError",
     "evalue": "",
     "output_type": "error",
     "traceback": [
      "\u001b[0;31m---------------------------------------------------------------------------\u001b[0m",
      "\u001b[0;31mAssertionError\u001b[0m                            Traceback (most recent call last)",
      "Cell \u001b[0;32mIn[7], line 13\u001b[0m\n\u001b[1;32m     10\u001b[0m         \u001b[38;5;28;01massert\u001b[39;00m invert_str(pair[\u001b[38;5;241m0\u001b[39m]) \u001b[38;5;241m==\u001b[39m pair[\u001b[38;5;241m1\u001b[39m]\n\u001b[1;32m     11\u001b[0m     \u001b[38;5;28mprint\u001b[39m(\u001b[38;5;124m\"\u001b[39m\u001b[38;5;124mTOK\u001b[39m\u001b[38;5;124m\"\u001b[39m) \n\u001b[0;32m---> 13\u001b[0m \u001b[43mtest_invert_str\u001b[49m\u001b[43m(\u001b[49m\u001b[43mpairs\u001b[49m\u001b[43m)\u001b[49m   \n",
      "Cell \u001b[0;32mIn[7], line 10\u001b[0m, in \u001b[0;36mtest_invert_str\u001b[0;34m(pairs)\u001b[0m\n\u001b[1;32m      8\u001b[0m \u001b[38;5;28;01mdef\u001b[39;00m \u001b[38;5;21mtest_invert_str\u001b[39m(pairs):\n\u001b[1;32m      9\u001b[0m     \u001b[38;5;28;01mfor\u001b[39;00m pair \u001b[38;5;129;01min\u001b[39;00m pairs:\n\u001b[0;32m---> 10\u001b[0m         \u001b[38;5;28;01massert\u001b[39;00m invert_str(pair[\u001b[38;5;241m0\u001b[39m]) \u001b[38;5;241m==\u001b[39m pair[\u001b[38;5;241m1\u001b[39m]\n\u001b[1;32m     11\u001b[0m     \u001b[38;5;28mprint\u001b[39m(\u001b[38;5;124m\"\u001b[39m\u001b[38;5;124mTOK\u001b[39m\u001b[38;5;124m\"\u001b[39m)\n",
      "\u001b[0;31mAssertionError\u001b[0m: "
     ]
    }
   ],
   "source": [
    "pairs = [\n",
    "    (\"Rafeal\", \"leafaR\"),\n",
    "    (\"cars\", \"scar\"),\n",
    "    (\"rats\", \"star\"),\n",
    "    (\"1000111\", \"1110001\")  \n",
    "]\n",
    "\n",
    "def test_invert_str(pairs):\n",
    "    for pair in pairs:\n",
    "        assert invert_str(pair[0]) == pair[1]\n",
    "    print(\"TOK\") \n",
    "    \n",
    "test_invert_str(pairs)   "
   ]
  },
  {
   "cell_type": "code",
   "execution_count": 8,
   "id": "87cb9cd8",
   "metadata": {},
   "outputs": [],
   "source": [
    "class Node:\n",
    "    def __init__(self, data):\n",
    "        self.data = data\n",
    "        self.behind = None\n",
    "\n",
    "class Queue:\n",
    "    def __init__(self):\n",
    "        self.front = None\n",
    "        \n",
    "    def enqueue(self, element):\n",
    "        if not self.front:\n",
    "            self.front = Node(element)\n",
    "        else:\n",
    "            current = self.front\n",
    "            while current.behind:\n",
    "                current = current.behind\n",
    "            current.behind = Node(element)\n",
    "            \n",
    "    def dequeue(self):\n",
    "        if self.front:\n",
    "            data = self.front.data\n",
    "            self.front = self.front.behind\n",
    "            return data\n",
    "        raise IndexError(\"Queue empty\")\n",
    "        \n",
    "        \n",
    "        "
   ]
  },
  {
   "cell_type": "code",
   "execution_count": 11,
   "id": "893ac081",
   "metadata": {},
   "outputs": [
    {
     "data": {
      "text/plain": [
       "3628800"
      ]
     },
     "execution_count": 11,
     "metadata": {},
     "output_type": "execute_result"
    }
   ],
   "source": [
    "#Recursive Functions\n",
    "\n",
    "def factorial(n):\n",
    "    if n == 0:\n",
    "        return 1\n",
    "    return n*factorial(n-1)\n",
    "\n",
    "factorial(10)"
   ]
  },
  {
   "cell_type": "code",
   "execution_count": 13,
   "id": "e0c7d4dd",
   "metadata": {},
   "outputs": [],
   "source": [
    "# Recursive Fibonacci\n",
    "from functools import lru_cache\n",
    "\n",
    "@lru_cache\n",
    "def fib(n):\n",
    "    if n < 2 :\n",
    "        return n\n",
    "    return fib(n-1) + fib(n-2)\n"
   ]
  },
  {
   "cell_type": "code",
   "execution_count": 14,
   "id": "7ac7177d",
   "metadata": {},
   "outputs": [
    {
     "data": {
      "text/plain": [
       "354224848179261915075"
      ]
     },
     "execution_count": 14,
     "metadata": {},
     "output_type": "execute_result"
    }
   ],
   "source": [
    "# for i in range(13):\n",
    "#     print(fib(i))\n",
    "\n",
    "fib(100)"
   ]
  },
  {
   "cell_type": "code",
   "execution_count": 16,
   "id": "d2cad896",
   "metadata": {},
   "outputs": [],
   "source": [
    "class HashTable:\n",
    "    def __init__(self, size):\n",
    "        self.size = size\n",
    "        self.slots = [None] * self.size\n",
    "        self.data = [None] * self.size\n",
    "        \n",
    "    def put(self, key, data):\n",
    "        hashvalue + self.hashfunction(key, lem(self.slots))\n",
    "        if self.slots[hashvalue] == None:\n",
    "            self.slots[hashvalue] = key\n",
    "            self.data[hashvalue] = data\n",
    "        else:\n",
    "            if self.slots[hashvalue] == key:\n",
    "                self.data[hashvalue] = data\n",
    "            else:\n",
    "                nextslot = self.rehash(hashvalue, len(self.slots))\n",
    "                while(self.slots[nextslot] != None) and (self.slots[nextslot] != key):\n",
    "                    nextslot = self.rehash(nextslot, len(self.slots))\n",
    "                if self.slots[nextslot] == None:\n",
    "                    self.slots[nextslot] = key\n",
    "                    self.data[nextslot] = data\n",
    "                else :\n",
    "                    self.data[nextslot] = data\n",
    "                    \n",
    "    def hashfunction(self, key, size):\n",
    "        return key%size\n",
    "    \n",
    "    def rehash(self, oldhash, size):\n",
    "        return (oldhash+1)%size\n",
    "    \n",
    "    def get(self,key):\n",
    "        startslot = self.hashfunction(key, len(self.slots))\n",
    "        data =None\n",
    "        stop = False\n",
    "        found = False\n",
    "        position = startslot\n",
    "        \n",
    "        while self.slots[position] != None and not found and not stop:   #condition 1: the value at index\n",
    "            if self.slots[position] == key:                              #postion must be none\n",
    "                found = True                                             #conditon 2: found == False\n",
    "                data = self.datda[position]                              #Condition 3: stop == False\n",
    "            else:\n",
    "                position = self.rehash(position, len(self.slots))\n",
    "                if position == startslot:\n",
    "                    stop = True\n",
    "        return data            "
   ]
  },
  {
   "cell_type": "markdown",
   "id": "1fdb6766",
   "metadata": {},
   "source": [
    "# Problem 3 \n",
    "###Refactor our recursive fibonacci function to use our HashTable class instead."
   ]
  },
  {
   "cell_type": "code",
   "execution_count": null,
   "id": "681c98e2",
   "metadata": {},
   "outputs": [],
   "source": []
  }
 ],
 "metadata": {
  "kernelspec": {
   "display_name": "Python 3 (ipykernel)",
   "language": "python",
   "name": "python3"
  },
  "language_info": {
   "codemirror_mode": {
    "name": "ipython",
    "version": 3
   },
   "file_extension": ".py",
   "mimetype": "text/x-python",
   "name": "python",
   "nbconvert_exporter": "python",
   "pygments_lexer": "ipython3",
   "version": "3.10.6"
  }
 },
 "nbformat": 4,
 "nbformat_minor": 5
}
